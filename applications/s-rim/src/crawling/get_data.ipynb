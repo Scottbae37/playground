{
 "metadata": {
  "language_info": {
   "codemirror_mode": {
    "name": "ipython",
    "version": 3
   },
   "file_extension": ".py",
   "mimetype": "text/x-python",
   "name": "python",
   "nbconvert_exporter": "python",
   "pygments_lexer": "ipython3",
   "version": "3.8.5-final"
  },
  "orig_nbformat": 2,
  "kernelspec": {
   "name": "python3",
   "display_name": "Python 3"
  }
 },
 "nbformat": 4,
 "nbformat_minor": 2,
 "cells": [
  {
   "cell_type": "code",
   "execution_count": 6,
   "metadata": {},
   "outputs": [],
   "source": [
    "import requests as req\n",
    "from bs4 import BeautifulSoup"
   ]
  },
  {
   "cell_type": "code",
   "execution_count": 7,
   "metadata": {},
   "outputs": [],
   "source": [
    "res = req.get('https://www.kisrating.com/ratingsStatistics/statics_spread.do')\n",
    "res.raise_for_status()\n",
    "soup = BeautifulSoup(res.text, 'html.parser')"
   ]
  },
  {
   "cell_type": "code",
   "execution_count": 31,
   "metadata": {
    "tags": []
   },
   "outputs": [
    {
     "output_type": "stream",
     "name": "stdout",
     "text": [
      "<tr>\n<td class=\"fc_blue_dk\">BBB-</td>\n<td class=\"ar pr40\">3.48</td>\n<td class=\"ar pr40\">4.14</td>\n<td class=\"ar pr40\">4.76</td>\n<td class=\"ar pr40\">5.14</td>\n<td class=\"ar pr40\">5.80</td>\n<td class=\"ar pr40\">6.55</td>\n<td class=\"ar pr40\">7.56</td>\n<td class=\"ar pr40\">7.97</td>\n</tr>\n<tr>\n<td class=\"fc_blue_dk\">BBB-</td>\n<td class=\"ar pr40\">305</td>\n<td class=\"ar pr40\">367</td>\n<td class=\"ar pr40\">422</td>\n<td class=\"ar pr40\">455</td>\n<td class=\"ar pr40\">506</td>\n<td class=\"ar pr40\">571</td>\n<td class=\"ar pr40\">658</td>\n<td class=\"ar pr40\">664</td>\n</tr>\n"
     ]
    }
   ],
   "source": [
    "for td in soup.find_all('td', class_='fc_blue_dk'):\n",
    "    if td.text == 'BBB-':\n",
    "        print(td.parent)\n"
   ]
  },
  {
   "cell_type": "code",
   "execution_count": null,
   "metadata": {},
   "outputs": [],
   "source": []
  }
 ]
}